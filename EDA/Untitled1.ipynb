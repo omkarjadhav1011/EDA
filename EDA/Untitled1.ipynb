{
 "cells": [
  {
   "cell_type": "markdown",
   "id": "5a779868-a623-44e6-9c46-6194679e9bc3",
   "metadata": {},
   "source": [
    "## Assignment 3\n",
    "### Name : Omkar Jadhav\n",
    "### PRN : 2324010068\n",
    "### Roll No : 74"
   ]
  },
  {
   "cell_type": "markdown",
   "id": "748a21dd-4c9b-408a-94fe-7935c1bf22ff",
   "metadata": {},
   "source": [
    "* Part - A"
   ]
  },
  {
   "cell_type": "code",
   "execution_count": 1,
   "id": "fad9a569-4dcc-4e1f-a8a6-a1007d540c9a",
   "metadata": {},
   "outputs": [],
   "source": [
    "import numpy as np\n",
    "import pandas as pd"
   ]
  },
  {
   "cell_type": "code",
   "execution_count": null,
   "id": "1cae18f2-fead-43b3-984d-915e61804585",
   "metadata": {},
   "outputs": [],
   "source": []
  }
 ],
 "metadata": {
  "kernelspec": {
   "display_name": "Python 3 (ipykernel)",
   "language": "python",
   "name": "python3"
  },
  "language_info": {
   "codemirror_mode": {
    "name": "ipython",
    "version": 3
   },
   "file_extension": ".py",
   "mimetype": "text/x-python",
   "name": "python",
   "nbconvert_exporter": "python",
   "pygments_lexer": "ipython3",
   "version": "3.11.7"
  },
  "widgets": {
   "application/vnd.jupyter.widget-state+json": {
    "state": {},
    "version_major": 2,
    "version_minor": 0
   }
  }
 },
 "nbformat": 4,
 "nbformat_minor": 5
}
