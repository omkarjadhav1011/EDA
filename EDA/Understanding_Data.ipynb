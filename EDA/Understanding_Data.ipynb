{
 "cells": [
  {
   "cell_type": "code",
   "execution_count": 1,
   "id": "cd30b1a4-c7e7-4626-85c0-f0edad80b109",
   "metadata": {},
   "outputs": [],
   "source": [
    "import pandas as pd\n",
    "import numpy as np"
   ]
  },
  {
   "cell_type": "code",
   "execution_count": 2,
   "id": "6064d982-a144-48df-b072-c12c71d1fb31",
   "metadata": {},
   "outputs": [],
   "source": [
    "data = {\"Name\":['Abc','Def','Ghi','Jkl','Mno','Pqr','Stu','Vwx','Yza','Kop','Mah'],\n",
    "       \"Age\":[23, 24, 46, 67, 68, 34, 25, 57, 48, 28, 52],\n",
    "       \"Gender\":['Male','Female','Male','Male','Female','Male','Female','Male','Male','Male','Female'],\n",
    "       \"Salary\":[45000,78000,89000,34000,45000,68000,25000,37000,39000,92000,30000]}\n"
   ]
  },
  {
   "cell_type": "code",
   "execution_count": 3,
   "id": "cede3928-6acf-4cce-9d4d-750267a48196",
   "metadata": {},
   "outputs": [
    {
     "data": {
      "text/html": [
       "<div>\n",
       "<style scoped>\n",
       "    .dataframe tbody tr th:only-of-type {\n",
       "        vertical-align: middle;\n",
       "    }\n",
       "\n",
       "    .dataframe tbody tr th {\n",
       "        vertical-align: top;\n",
       "    }\n",
       "\n",
       "    .dataframe thead th {\n",
       "        text-align: right;\n",
       "    }\n",
       "</style>\n",
       "<table border=\"1\" class=\"dataframe\">\n",
       "  <thead>\n",
       "    <tr style=\"text-align: right;\">\n",
       "      <th></th>\n",
       "      <th>Name</th>\n",
       "      <th>Age</th>\n",
       "      <th>Gender</th>\n",
       "      <th>Salary</th>\n",
       "    </tr>\n",
       "  </thead>\n",
       "  <tbody>\n",
       "    <tr>\n",
       "      <th>0</th>\n",
       "      <td>Abc</td>\n",
       "      <td>23</td>\n",
       "      <td>Male</td>\n",
       "      <td>45000</td>\n",
       "    </tr>\n",
       "    <tr>\n",
       "      <th>1</th>\n",
       "      <td>Def</td>\n",
       "      <td>24</td>\n",
       "      <td>Female</td>\n",
       "      <td>78000</td>\n",
       "    </tr>\n",
       "    <tr>\n",
       "      <th>2</th>\n",
       "      <td>Ghi</td>\n",
       "      <td>46</td>\n",
       "      <td>Male</td>\n",
       "      <td>89000</td>\n",
       "    </tr>\n",
       "    <tr>\n",
       "      <th>3</th>\n",
       "      <td>Jkl</td>\n",
       "      <td>67</td>\n",
       "      <td>Male</td>\n",
       "      <td>34000</td>\n",
       "    </tr>\n",
       "    <tr>\n",
       "      <th>4</th>\n",
       "      <td>Mno</td>\n",
       "      <td>68</td>\n",
       "      <td>Female</td>\n",
       "      <td>45000</td>\n",
       "    </tr>\n",
       "    <tr>\n",
       "      <th>5</th>\n",
       "      <td>Pqr</td>\n",
       "      <td>34</td>\n",
       "      <td>Male</td>\n",
       "      <td>68000</td>\n",
       "    </tr>\n",
       "    <tr>\n",
       "      <th>6</th>\n",
       "      <td>Stu</td>\n",
       "      <td>25</td>\n",
       "      <td>Female</td>\n",
       "      <td>25000</td>\n",
       "    </tr>\n",
       "    <tr>\n",
       "      <th>7</th>\n",
       "      <td>Vwx</td>\n",
       "      <td>57</td>\n",
       "      <td>Male</td>\n",
       "      <td>37000</td>\n",
       "    </tr>\n",
       "    <tr>\n",
       "      <th>8</th>\n",
       "      <td>Yza</td>\n",
       "      <td>48</td>\n",
       "      <td>Male</td>\n",
       "      <td>39000</td>\n",
       "    </tr>\n",
       "    <tr>\n",
       "      <th>9</th>\n",
       "      <td>Kop</td>\n",
       "      <td>28</td>\n",
       "      <td>Male</td>\n",
       "      <td>92000</td>\n",
       "    </tr>\n",
       "    <tr>\n",
       "      <th>10</th>\n",
       "      <td>Mah</td>\n",
       "      <td>52</td>\n",
       "      <td>Female</td>\n",
       "      <td>30000</td>\n",
       "    </tr>\n",
       "  </tbody>\n",
       "</table>\n",
       "</div>"
      ],
      "text/plain": [
       "   Name  Age  Gender  Salary\n",
       "0   Abc   23    Male   45000\n",
       "1   Def   24  Female   78000\n",
       "2   Ghi   46    Male   89000\n",
       "3   Jkl   67    Male   34000\n",
       "4   Mno   68  Female   45000\n",
       "5   Pqr   34    Male   68000\n",
       "6   Stu   25  Female   25000\n",
       "7   Vwx   57    Male   37000\n",
       "8   Yza   48    Male   39000\n",
       "9   Kop   28    Male   92000\n",
       "10  Mah   52  Female   30000"
      ]
     },
     "execution_count": 3,
     "metadata": {},
     "output_type": "execute_result"
    }
   ],
   "source": [
    "df = pd.DataFrame(data)\n",
    "df"
   ]
  },
  {
   "cell_type": "markdown",
   "id": "fb0ade49-1eae-424f-97b5-cff20283a9fa",
   "metadata": {},
   "source": [
    "### 1) Attributes"
   ]
  },
  {
   "cell_type": "code",
   "execution_count": 4,
   "id": "6caeaac1-1285-4ab9-8eb8-2f7461ee0664",
   "metadata": {},
   "outputs": [
    {
     "data": {
      "text/plain": [
       "(11, 4)"
      ]
     },
     "execution_count": 4,
     "metadata": {},
     "output_type": "execute_result"
    }
   ],
   "source": [
    "df.shape"
   ]
  },
  {
   "cell_type": "code",
   "execution_count": 5,
   "id": "2ea73cd5-2744-4e59-aac2-f8ef72d4228e",
   "metadata": {},
   "outputs": [
    {
     "data": {
      "text/plain": [
       "44"
      ]
     },
     "execution_count": 5,
     "metadata": {},
     "output_type": "execute_result"
    }
   ],
   "source": [
    "df.size"
   ]
  },
  {
   "cell_type": "code",
   "execution_count": 6,
   "id": "0ee624c7-916b-4e9c-9c46-af12c3702ea7",
   "metadata": {},
   "outputs": [
    {
     "data": {
      "text/plain": [
       "2"
      ]
     },
     "execution_count": 6,
     "metadata": {},
     "output_type": "execute_result"
    }
   ],
   "source": [
    "df.ndim"
   ]
  },
  {
   "cell_type": "code",
   "execution_count": 7,
   "id": "842fea51-b5c2-4616-a892-b366502fc539",
   "metadata": {},
   "outputs": [
    {
     "data": {
      "text/plain": [
       "Index(['Name', 'Age', 'Gender', 'Salary'], dtype='object')"
      ]
     },
     "execution_count": 7,
     "metadata": {},
     "output_type": "execute_result"
    }
   ],
   "source": [
    "df.columns"
   ]
  },
  {
   "cell_type": "code",
   "execution_count": 8,
   "id": "bc03be60-f527-4027-8022-69f354c89062",
   "metadata": {},
   "outputs": [
    {
     "data": {
      "text/plain": [
       "Name      object\n",
       "Age        int64\n",
       "Gender    object\n",
       "Salary     int64\n",
       "dtype: object"
      ]
     },
     "execution_count": 8,
     "metadata": {},
     "output_type": "execute_result"
    }
   ],
   "source": [
    "df.dtypes"
   ]
  },
  {
   "cell_type": "code",
   "execution_count": 9,
   "id": "74a832fc-476b-49fd-bcfc-0bf4b30d006c",
   "metadata": {},
   "outputs": [
    {
     "data": {
      "text/plain": [
       "[RangeIndex(start=0, stop=11, step=1),\n",
       " Index(['Name', 'Age', 'Gender', 'Salary'], dtype='object')]"
      ]
     },
     "execution_count": 9,
     "metadata": {},
     "output_type": "execute_result"
    }
   ],
   "source": [
    "df.axes"
   ]
  },
  {
   "cell_type": "code",
   "execution_count": 10,
   "id": "5eb915dc-09f2-4317-a380-fda78fb3d095",
   "metadata": {},
   "outputs": [
    {
     "data": {
      "text/plain": [
       "RangeIndex(start=0, stop=11, step=1)"
      ]
     },
     "execution_count": 10,
     "metadata": {},
     "output_type": "execute_result"
    }
   ],
   "source": [
    "df.index"
   ]
  },
  {
   "cell_type": "code",
   "execution_count": 11,
   "id": "c627689f-d155-47cd-a7df-f35ac4de88b8",
   "metadata": {},
   "outputs": [
    {
     "data": {
      "text/plain": [
       "array([['Abc', 23, 'Male', 45000],\n",
       "       ['Def', 24, 'Female', 78000],\n",
       "       ['Ghi', 46, 'Male', 89000],\n",
       "       ['Jkl', 67, 'Male', 34000],\n",
       "       ['Mno', 68, 'Female', 45000],\n",
       "       ['Pqr', 34, 'Male', 68000],\n",
       "       ['Stu', 25, 'Female', 25000],\n",
       "       ['Vwx', 57, 'Male', 37000],\n",
       "       ['Yza', 48, 'Male', 39000],\n",
       "       ['Kop', 28, 'Male', 92000],\n",
       "       ['Mah', 52, 'Female', 30000]], dtype=object)"
      ]
     },
     "execution_count": 11,
     "metadata": {},
     "output_type": "execute_result"
    }
   ],
   "source": [
    "df.values"
   ]
  },
  {
   "cell_type": "code",
   "execution_count": 12,
   "id": "7ad20efc-1352-4ca6-aeb4-2cf844039e00",
   "metadata": {},
   "outputs": [
    {
     "data": {
      "text/plain": [
       "False"
      ]
     },
     "execution_count": 12,
     "metadata": {},
     "output_type": "execute_result"
    }
   ],
   "source": [
    "df.empty"
   ]
  },
  {
   "cell_type": "code",
   "execution_count": 13,
   "id": "0ed45500-c369-4b8a-b349-c47193296fe2",
   "metadata": {},
   "outputs": [
    {
     "data": {
      "text/html": [
       "<div>\n",
       "<style scoped>\n",
       "    .dataframe tbody tr th:only-of-type {\n",
       "        vertical-align: middle;\n",
       "    }\n",
       "\n",
       "    .dataframe tbody tr th {\n",
       "        vertical-align: top;\n",
       "    }\n",
       "\n",
       "    .dataframe thead th {\n",
       "        text-align: right;\n",
       "    }\n",
       "</style>\n",
       "<table border=\"1\" class=\"dataframe\">\n",
       "  <thead>\n",
       "    <tr style=\"text-align: right;\">\n",
       "      <th></th>\n",
       "      <th>0</th>\n",
       "      <th>1</th>\n",
       "      <th>2</th>\n",
       "      <th>3</th>\n",
       "      <th>4</th>\n",
       "      <th>5</th>\n",
       "      <th>6</th>\n",
       "      <th>7</th>\n",
       "      <th>8</th>\n",
       "      <th>9</th>\n",
       "      <th>10</th>\n",
       "    </tr>\n",
       "  </thead>\n",
       "  <tbody>\n",
       "    <tr>\n",
       "      <th>Name</th>\n",
       "      <td>Abc</td>\n",
       "      <td>Def</td>\n",
       "      <td>Ghi</td>\n",
       "      <td>Jkl</td>\n",
       "      <td>Mno</td>\n",
       "      <td>Pqr</td>\n",
       "      <td>Stu</td>\n",
       "      <td>Vwx</td>\n",
       "      <td>Yza</td>\n",
       "      <td>Kop</td>\n",
       "      <td>Mah</td>\n",
       "    </tr>\n",
       "    <tr>\n",
       "      <th>Age</th>\n",
       "      <td>23</td>\n",
       "      <td>24</td>\n",
       "      <td>46</td>\n",
       "      <td>67</td>\n",
       "      <td>68</td>\n",
       "      <td>34</td>\n",
       "      <td>25</td>\n",
       "      <td>57</td>\n",
       "      <td>48</td>\n",
       "      <td>28</td>\n",
       "      <td>52</td>\n",
       "    </tr>\n",
       "    <tr>\n",
       "      <th>Gender</th>\n",
       "      <td>Male</td>\n",
       "      <td>Female</td>\n",
       "      <td>Male</td>\n",
       "      <td>Male</td>\n",
       "      <td>Female</td>\n",
       "      <td>Male</td>\n",
       "      <td>Female</td>\n",
       "      <td>Male</td>\n",
       "      <td>Male</td>\n",
       "      <td>Male</td>\n",
       "      <td>Female</td>\n",
       "    </tr>\n",
       "    <tr>\n",
       "      <th>Salary</th>\n",
       "      <td>45000</td>\n",
       "      <td>78000</td>\n",
       "      <td>89000</td>\n",
       "      <td>34000</td>\n",
       "      <td>45000</td>\n",
       "      <td>68000</td>\n",
       "      <td>25000</td>\n",
       "      <td>37000</td>\n",
       "      <td>39000</td>\n",
       "      <td>92000</td>\n",
       "      <td>30000</td>\n",
       "    </tr>\n",
       "  </tbody>\n",
       "</table>\n",
       "</div>"
      ],
      "text/plain": [
       "           0       1      2      3       4      5       6      7      8   \\\n",
       "Name      Abc     Def    Ghi    Jkl     Mno    Pqr     Stu    Vwx    Yza   \n",
       "Age        23      24     46     67      68     34      25     57     48   \n",
       "Gender   Male  Female   Male   Male  Female   Male  Female   Male   Male   \n",
       "Salary  45000   78000  89000  34000   45000  68000   25000  37000  39000   \n",
       "\n",
       "           9       10  \n",
       "Name      Kop     Mah  \n",
       "Age        28      52  \n",
       "Gender   Male  Female  \n",
       "Salary  92000   30000  "
      ]
     },
     "execution_count": 13,
     "metadata": {},
     "output_type": "execute_result"
    }
   ],
   "source": [
    "df.T"
   ]
  },
  {
   "cell_type": "markdown",
   "id": "61b99a2a-a2b0-402d-aed1-3ba5a0f98dea",
   "metadata": {},
   "source": [
    "### 2) Functions"
   ]
  },
  {
   "cell_type": "code",
   "execution_count": 14,
   "id": "9812a731-a6b9-4964-93df-f74382ea6b7d",
   "metadata": {},
   "outputs": [
    {
     "name": "stdout",
     "output_type": "stream",
     "text": [
      "<class 'pandas.core.frame.DataFrame'>\n",
      "RangeIndex: 11 entries, 0 to 10\n",
      "Data columns (total 4 columns):\n",
      " #   Column  Non-Null Count  Dtype \n",
      "---  ------  --------------  ----- \n",
      " 0   Name    11 non-null     object\n",
      " 1   Age     11 non-null     int64 \n",
      " 2   Gender  11 non-null     object\n",
      " 3   Salary  11 non-null     int64 \n",
      "dtypes: int64(2), object(2)\n",
      "memory usage: 484.0+ bytes\n"
     ]
    }
   ],
   "source": [
    "df.info()"
   ]
  },
  {
   "cell_type": "code",
   "execution_count": 15,
   "id": "6f1421e2-356c-4e57-b879-0cfa196a52c0",
   "metadata": {},
   "outputs": [
    {
     "data": {
      "text/html": [
       "<div>\n",
       "<style scoped>\n",
       "    .dataframe tbody tr th:only-of-type {\n",
       "        vertical-align: middle;\n",
       "    }\n",
       "\n",
       "    .dataframe tbody tr th {\n",
       "        vertical-align: top;\n",
       "    }\n",
       "\n",
       "    .dataframe thead th {\n",
       "        text-align: right;\n",
       "    }\n",
       "</style>\n",
       "<table border=\"1\" class=\"dataframe\">\n",
       "  <thead>\n",
       "    <tr style=\"text-align: right;\">\n",
       "      <th></th>\n",
       "      <th>Name</th>\n",
       "      <th>Age</th>\n",
       "      <th>Gender</th>\n",
       "      <th>Salary</th>\n",
       "    </tr>\n",
       "  </thead>\n",
       "  <tbody>\n",
       "    <tr>\n",
       "      <th>0</th>\n",
       "      <td>Abc</td>\n",
       "      <td>23</td>\n",
       "      <td>Male</td>\n",
       "      <td>45000</td>\n",
       "    </tr>\n",
       "    <tr>\n",
       "      <th>1</th>\n",
       "      <td>Def</td>\n",
       "      <td>24</td>\n",
       "      <td>Female</td>\n",
       "      <td>78000</td>\n",
       "    </tr>\n",
       "    <tr>\n",
       "      <th>2</th>\n",
       "      <td>Ghi</td>\n",
       "      <td>46</td>\n",
       "      <td>Male</td>\n",
       "      <td>89000</td>\n",
       "    </tr>\n",
       "    <tr>\n",
       "      <th>3</th>\n",
       "      <td>Jkl</td>\n",
       "      <td>67</td>\n",
       "      <td>Male</td>\n",
       "      <td>34000</td>\n",
       "    </tr>\n",
       "    <tr>\n",
       "      <th>4</th>\n",
       "      <td>Mno</td>\n",
       "      <td>68</td>\n",
       "      <td>Female</td>\n",
       "      <td>45000</td>\n",
       "    </tr>\n",
       "  </tbody>\n",
       "</table>\n",
       "</div>"
      ],
      "text/plain": [
       "  Name  Age  Gender  Salary\n",
       "0  Abc   23    Male   45000\n",
       "1  Def   24  Female   78000\n",
       "2  Ghi   46    Male   89000\n",
       "3  Jkl   67    Male   34000\n",
       "4  Mno   68  Female   45000"
      ]
     },
     "execution_count": 15,
     "metadata": {},
     "output_type": "execute_result"
    }
   ],
   "source": [
    "df.head()"
   ]
  },
  {
   "cell_type": "code",
   "execution_count": 16,
   "id": "fcc93087-46e0-4c3c-a18e-4facc54e64b8",
   "metadata": {},
   "outputs": [
    {
     "data": {
      "text/html": [
       "<div>\n",
       "<style scoped>\n",
       "    .dataframe tbody tr th:only-of-type {\n",
       "        vertical-align: middle;\n",
       "    }\n",
       "\n",
       "    .dataframe tbody tr th {\n",
       "        vertical-align: top;\n",
       "    }\n",
       "\n",
       "    .dataframe thead th {\n",
       "        text-align: right;\n",
       "    }\n",
       "</style>\n",
       "<table border=\"1\" class=\"dataframe\">\n",
       "  <thead>\n",
       "    <tr style=\"text-align: right;\">\n",
       "      <th></th>\n",
       "      <th>Name</th>\n",
       "      <th>Age</th>\n",
       "      <th>Gender</th>\n",
       "      <th>Salary</th>\n",
       "    </tr>\n",
       "  </thead>\n",
       "  <tbody>\n",
       "    <tr>\n",
       "      <th>0</th>\n",
       "      <td>Abc</td>\n",
       "      <td>23</td>\n",
       "      <td>Male</td>\n",
       "      <td>45000</td>\n",
       "    </tr>\n",
       "    <tr>\n",
       "      <th>1</th>\n",
       "      <td>Def</td>\n",
       "      <td>24</td>\n",
       "      <td>Female</td>\n",
       "      <td>78000</td>\n",
       "    </tr>\n",
       "    <tr>\n",
       "      <th>2</th>\n",
       "      <td>Ghi</td>\n",
       "      <td>46</td>\n",
       "      <td>Male</td>\n",
       "      <td>89000</td>\n",
       "    </tr>\n",
       "    <tr>\n",
       "      <th>3</th>\n",
       "      <td>Jkl</td>\n",
       "      <td>67</td>\n",
       "      <td>Male</td>\n",
       "      <td>34000</td>\n",
       "    </tr>\n",
       "    <tr>\n",
       "      <th>4</th>\n",
       "      <td>Mno</td>\n",
       "      <td>68</td>\n",
       "      <td>Female</td>\n",
       "      <td>45000</td>\n",
       "    </tr>\n",
       "    <tr>\n",
       "      <th>5</th>\n",
       "      <td>Pqr</td>\n",
       "      <td>34</td>\n",
       "      <td>Male</td>\n",
       "      <td>68000</td>\n",
       "    </tr>\n",
       "    <tr>\n",
       "      <th>6</th>\n",
       "      <td>Stu</td>\n",
       "      <td>25</td>\n",
       "      <td>Female</td>\n",
       "      <td>25000</td>\n",
       "    </tr>\n",
       "  </tbody>\n",
       "</table>\n",
       "</div>"
      ],
      "text/plain": [
       "  Name  Age  Gender  Salary\n",
       "0  Abc   23    Male   45000\n",
       "1  Def   24  Female   78000\n",
       "2  Ghi   46    Male   89000\n",
       "3  Jkl   67    Male   34000\n",
       "4  Mno   68  Female   45000\n",
       "5  Pqr   34    Male   68000\n",
       "6  Stu   25  Female   25000"
      ]
     },
     "execution_count": 16,
     "metadata": {},
     "output_type": "execute_result"
    }
   ],
   "source": [
    "df.head(7)"
   ]
  },
  {
   "cell_type": "code",
   "execution_count": 17,
   "id": "4130f646-b729-4137-8110-bc3ccc51c7fb",
   "metadata": {},
   "outputs": [
    {
     "data": {
      "text/html": [
       "<div>\n",
       "<style scoped>\n",
       "    .dataframe tbody tr th:only-of-type {\n",
       "        vertical-align: middle;\n",
       "    }\n",
       "\n",
       "    .dataframe tbody tr th {\n",
       "        vertical-align: top;\n",
       "    }\n",
       "\n",
       "    .dataframe thead th {\n",
       "        text-align: right;\n",
       "    }\n",
       "</style>\n",
       "<table border=\"1\" class=\"dataframe\">\n",
       "  <thead>\n",
       "    <tr style=\"text-align: right;\">\n",
       "      <th></th>\n",
       "      <th>Name</th>\n",
       "      <th>Age</th>\n",
       "      <th>Gender</th>\n",
       "      <th>Salary</th>\n",
       "    </tr>\n",
       "  </thead>\n",
       "  <tbody>\n",
       "    <tr>\n",
       "      <th>6</th>\n",
       "      <td>Stu</td>\n",
       "      <td>25</td>\n",
       "      <td>Female</td>\n",
       "      <td>25000</td>\n",
       "    </tr>\n",
       "    <tr>\n",
       "      <th>7</th>\n",
       "      <td>Vwx</td>\n",
       "      <td>57</td>\n",
       "      <td>Male</td>\n",
       "      <td>37000</td>\n",
       "    </tr>\n",
       "    <tr>\n",
       "      <th>8</th>\n",
       "      <td>Yza</td>\n",
       "      <td>48</td>\n",
       "      <td>Male</td>\n",
       "      <td>39000</td>\n",
       "    </tr>\n",
       "    <tr>\n",
       "      <th>9</th>\n",
       "      <td>Kop</td>\n",
       "      <td>28</td>\n",
       "      <td>Male</td>\n",
       "      <td>92000</td>\n",
       "    </tr>\n",
       "    <tr>\n",
       "      <th>10</th>\n",
       "      <td>Mah</td>\n",
       "      <td>52</td>\n",
       "      <td>Female</td>\n",
       "      <td>30000</td>\n",
       "    </tr>\n",
       "  </tbody>\n",
       "</table>\n",
       "</div>"
      ],
      "text/plain": [
       "   Name  Age  Gender  Salary\n",
       "6   Stu   25  Female   25000\n",
       "7   Vwx   57    Male   37000\n",
       "8   Yza   48    Male   39000\n",
       "9   Kop   28    Male   92000\n",
       "10  Mah   52  Female   30000"
      ]
     },
     "execution_count": 17,
     "metadata": {},
     "output_type": "execute_result"
    }
   ],
   "source": [
    "df.tail()   #By default shows 5 values"
   ]
  },
  {
   "cell_type": "code",
   "execution_count": 18,
   "id": "889bba8a-f2c2-4e11-b136-da4b928df8c1",
   "metadata": {},
   "outputs": [
    {
     "data": {
      "text/html": [
       "<div>\n",
       "<style scoped>\n",
       "    .dataframe tbody tr th:only-of-type {\n",
       "        vertical-align: middle;\n",
       "    }\n",
       "\n",
       "    .dataframe tbody tr th {\n",
       "        vertical-align: top;\n",
       "    }\n",
       "\n",
       "    .dataframe thead th {\n",
       "        text-align: right;\n",
       "    }\n",
       "</style>\n",
       "<table border=\"1\" class=\"dataframe\">\n",
       "  <thead>\n",
       "    <tr style=\"text-align: right;\">\n",
       "      <th></th>\n",
       "      <th>Age</th>\n",
       "      <th>Salary</th>\n",
       "    </tr>\n",
       "  </thead>\n",
       "  <tbody>\n",
       "    <tr>\n",
       "      <th>count</th>\n",
       "      <td>11.000000</td>\n",
       "      <td>11.000000</td>\n",
       "    </tr>\n",
       "    <tr>\n",
       "      <th>mean</th>\n",
       "      <td>42.909091</td>\n",
       "      <td>52909.090909</td>\n",
       "    </tr>\n",
       "    <tr>\n",
       "      <th>std</th>\n",
       "      <td>17.037926</td>\n",
       "      <td>24332.918220</td>\n",
       "    </tr>\n",
       "    <tr>\n",
       "      <th>min</th>\n",
       "      <td>23.000000</td>\n",
       "      <td>25000.000000</td>\n",
       "    </tr>\n",
       "    <tr>\n",
       "      <th>25%</th>\n",
       "      <td>26.500000</td>\n",
       "      <td>35500.000000</td>\n",
       "    </tr>\n",
       "    <tr>\n",
       "      <th>50%</th>\n",
       "      <td>46.000000</td>\n",
       "      <td>45000.000000</td>\n",
       "    </tr>\n",
       "    <tr>\n",
       "      <th>75%</th>\n",
       "      <td>54.500000</td>\n",
       "      <td>73000.000000</td>\n",
       "    </tr>\n",
       "    <tr>\n",
       "      <th>max</th>\n",
       "      <td>68.000000</td>\n",
       "      <td>92000.000000</td>\n",
       "    </tr>\n",
       "  </tbody>\n",
       "</table>\n",
       "</div>"
      ],
      "text/plain": [
       "             Age        Salary\n",
       "count  11.000000     11.000000\n",
       "mean   42.909091  52909.090909\n",
       "std    17.037926  24332.918220\n",
       "min    23.000000  25000.000000\n",
       "25%    26.500000  35500.000000\n",
       "50%    46.000000  45000.000000\n",
       "75%    54.500000  73000.000000\n",
       "max    68.000000  92000.000000"
      ]
     },
     "execution_count": 18,
     "metadata": {},
     "output_type": "execute_result"
    }
   ],
   "source": [
    "df.describe()"
   ]
  },
  {
   "cell_type": "code",
   "execution_count": 19,
   "id": "1781258b-ad15-4757-bfbe-4e0d913c65ce",
   "metadata": {},
   "outputs": [
    {
     "data": {
      "text/plain": [
       "23"
      ]
     },
     "execution_count": 19,
     "metadata": {},
     "output_type": "execute_result"
    }
   ],
   "source": [
    "df[\"Age\"].min() "
   ]
  },
  {
   "cell_type": "markdown",
   "id": "b0052f80-3fab-4979-82da-51a768ea8f8c",
   "metadata": {},
   "source": [
    "#### Same you can do for:\n",
    "1. max\n",
    "2. count\n",
    "3. mean\n",
    "4. std"
   ]
  },
  {
   "cell_type": "code",
   "execution_count": 20,
   "id": "2831eaba-58ef-4d0c-8e4c-fac922d7d491",
   "metadata": {},
   "outputs": [
    {
     "data": {
      "text/plain": [
       "array(['Male', 'Female'], dtype=object)"
      ]
     },
     "execution_count": 20,
     "metadata": {},
     "output_type": "execute_result"
    }
   ],
   "source": [
    "df[\"Gender\"].unique()"
   ]
  },
  {
   "cell_type": "code",
   "execution_count": 21,
   "id": "8a594c1e-619b-4bf5-b5f9-8cc6643445d5",
   "metadata": {},
   "outputs": [
    {
     "data": {
      "text/plain": [
       "2"
      ]
     },
     "execution_count": 21,
     "metadata": {},
     "output_type": "execute_result"
    }
   ],
   "source": [
    "df[\"Gender\"].nunique()"
   ]
  },
  {
   "cell_type": "code",
   "execution_count": 22,
   "id": "91c24fcd-dd57-4a55-a275-32b7dd8442cd",
   "metadata": {},
   "outputs": [
    {
     "data": {
      "text/plain": [
       "Gender\n",
       "Male      7\n",
       "Female    4\n",
       "Name: count, dtype: int64"
      ]
     },
     "execution_count": 22,
     "metadata": {},
     "output_type": "execute_result"
    }
   ],
   "source": [
    "df[\"Gender\"].value_counts()"
   ]
  },
  {
   "cell_type": "code",
   "execution_count": 23,
   "id": "3e4cc6e4-5c3f-4ddc-9f04-32b600eab432",
   "metadata": {},
   "outputs": [
    {
     "data": {
      "text/html": [
       "<div>\n",
       "<style scoped>\n",
       "    .dataframe tbody tr th:only-of-type {\n",
       "        vertical-align: middle;\n",
       "    }\n",
       "\n",
       "    .dataframe tbody tr th {\n",
       "        vertical-align: top;\n",
       "    }\n",
       "\n",
       "    .dataframe thead th {\n",
       "        text-align: right;\n",
       "    }\n",
       "</style>\n",
       "<table border=\"1\" class=\"dataframe\">\n",
       "  <thead>\n",
       "    <tr style=\"text-align: right;\">\n",
       "      <th></th>\n",
       "      <th>Name</th>\n",
       "      <th>Age</th>\n",
       "      <th>Gender</th>\n",
       "      <th>Salary</th>\n",
       "    </tr>\n",
       "  </thead>\n",
       "  <tbody>\n",
       "    <tr>\n",
       "      <th>3</th>\n",
       "      <td>Jkl</td>\n",
       "      <td>67</td>\n",
       "      <td>Male</td>\n",
       "      <td>34000</td>\n",
       "    </tr>\n",
       "  </tbody>\n",
       "</table>\n",
       "</div>"
      ],
      "text/plain": [
       "  Name  Age Gender  Salary\n",
       "3  Jkl   67   Male   34000"
      ]
     },
     "execution_count": 23,
     "metadata": {},
     "output_type": "execute_result"
    }
   ],
   "source": [
    "df.sample()   # Randomly picks a row/record from the dataset"
   ]
  },
  {
   "cell_type": "code",
   "execution_count": 24,
   "id": "f98f55ff-d4da-4b98-9add-5f80b8672697",
   "metadata": {},
   "outputs": [
    {
     "data": {
      "text/html": [
       "<div>\n",
       "<style scoped>\n",
       "    .dataframe tbody tr th:only-of-type {\n",
       "        vertical-align: middle;\n",
       "    }\n",
       "\n",
       "    .dataframe tbody tr th {\n",
       "        vertical-align: top;\n",
       "    }\n",
       "\n",
       "    .dataframe thead th {\n",
       "        text-align: right;\n",
       "    }\n",
       "</style>\n",
       "<table border=\"1\" class=\"dataframe\">\n",
       "  <thead>\n",
       "    <tr style=\"text-align: right;\">\n",
       "      <th></th>\n",
       "      <th>Name</th>\n",
       "      <th>Age</th>\n",
       "      <th>Gender</th>\n",
       "      <th>Salary</th>\n",
       "    </tr>\n",
       "  </thead>\n",
       "  <tbody>\n",
       "    <tr>\n",
       "      <th>10</th>\n",
       "      <td>Mah</td>\n",
       "      <td>52</td>\n",
       "      <td>Female</td>\n",
       "      <td>30000</td>\n",
       "    </tr>\n",
       "    <tr>\n",
       "      <th>9</th>\n",
       "      <td>Kop</td>\n",
       "      <td>28</td>\n",
       "      <td>Male</td>\n",
       "      <td>92000</td>\n",
       "    </tr>\n",
       "    <tr>\n",
       "      <th>1</th>\n",
       "      <td>Def</td>\n",
       "      <td>24</td>\n",
       "      <td>Female</td>\n",
       "      <td>78000</td>\n",
       "    </tr>\n",
       "    <tr>\n",
       "      <th>7</th>\n",
       "      <td>Vwx</td>\n",
       "      <td>57</td>\n",
       "      <td>Male</td>\n",
       "      <td>37000</td>\n",
       "    </tr>\n",
       "    <tr>\n",
       "      <th>3</th>\n",
       "      <td>Jkl</td>\n",
       "      <td>67</td>\n",
       "      <td>Male</td>\n",
       "      <td>34000</td>\n",
       "    </tr>\n",
       "  </tbody>\n",
       "</table>\n",
       "</div>"
      ],
      "text/plain": [
       "   Name  Age  Gender  Salary\n",
       "10  Mah   52  Female   30000\n",
       "9   Kop   28    Male   92000\n",
       "1   Def   24  Female   78000\n",
       "7   Vwx   57    Male   37000\n",
       "3   Jkl   67    Male   34000"
      ]
     },
     "execution_count": 24,
     "metadata": {},
     "output_type": "execute_result"
    }
   ],
   "source": [
    "df.sample(5)   # Randomly picks 5 rows/record from the dataset"
   ]
  },
  {
   "cell_type": "markdown",
   "id": "051267ce-4900-4f06-9628-e4bfb81d70ad",
   "metadata": {},
   "source": [
    "### Locate and Ilocate"
   ]
  },
  {
   "cell_type": "code",
   "execution_count": 25,
   "id": "a6c8e63a-dae7-447a-981b-c68c74777b5a",
   "metadata": {},
   "outputs": [
    {
     "data": {
      "text/plain": [
       "Name        Abc\n",
       "Age          23\n",
       "Gender     Male\n",
       "Salary    45000\n",
       "Name: 0, dtype: object"
      ]
     },
     "execution_count": 25,
     "metadata": {},
     "output_type": "execute_result"
    }
   ],
   "source": [
    "df.loc[0]    #Provides the details of the specified indexed row"
   ]
  },
  {
   "cell_type": "code",
   "execution_count": 26,
   "id": "3c2e0cf1-dbcd-49fc-b55c-fdec9742fcc1",
   "metadata": {},
   "outputs": [
    {
     "data": {
      "text/html": [
       "<div>\n",
       "<style scoped>\n",
       "    .dataframe tbody tr th:only-of-type {\n",
       "        vertical-align: middle;\n",
       "    }\n",
       "\n",
       "    .dataframe tbody tr th {\n",
       "        vertical-align: top;\n",
       "    }\n",
       "\n",
       "    .dataframe thead th {\n",
       "        text-align: right;\n",
       "    }\n",
       "</style>\n",
       "<table border=\"1\" class=\"dataframe\">\n",
       "  <thead>\n",
       "    <tr style=\"text-align: right;\">\n",
       "      <th></th>\n",
       "      <th>Name</th>\n",
       "      <th>Age</th>\n",
       "      <th>Gender</th>\n",
       "      <th>Salary</th>\n",
       "    </tr>\n",
       "  </thead>\n",
       "  <tbody>\n",
       "    <tr>\n",
       "      <th>1</th>\n",
       "      <td>Def</td>\n",
       "      <td>24</td>\n",
       "      <td>Female</td>\n",
       "      <td>78000</td>\n",
       "    </tr>\n",
       "    <tr>\n",
       "      <th>2</th>\n",
       "      <td>Ghi</td>\n",
       "      <td>46</td>\n",
       "      <td>Male</td>\n",
       "      <td>89000</td>\n",
       "    </tr>\n",
       "    <tr>\n",
       "      <th>3</th>\n",
       "      <td>Jkl</td>\n",
       "      <td>67</td>\n",
       "      <td>Male</td>\n",
       "      <td>34000</td>\n",
       "    </tr>\n",
       "    <tr>\n",
       "      <th>4</th>\n",
       "      <td>Mno</td>\n",
       "      <td>68</td>\n",
       "      <td>Female</td>\n",
       "      <td>45000</td>\n",
       "    </tr>\n",
       "    <tr>\n",
       "      <th>5</th>\n",
       "      <td>Pqr</td>\n",
       "      <td>34</td>\n",
       "      <td>Male</td>\n",
       "      <td>68000</td>\n",
       "    </tr>\n",
       "  </tbody>\n",
       "</table>\n",
       "</div>"
      ],
      "text/plain": [
       "  Name  Age  Gender  Salary\n",
       "1  Def   24  Female   78000\n",
       "2  Ghi   46    Male   89000\n",
       "3  Jkl   67    Male   34000\n",
       "4  Mno   68  Female   45000\n",
       "5  Pqr   34    Male   68000"
      ]
     },
     "execution_count": 26,
     "metadata": {},
     "output_type": "execute_result"
    }
   ],
   "source": [
    "df.loc[1:5]    #Slices and provides rows from index 1 to 5"
   ]
  },
  {
   "cell_type": "code",
   "execution_count": 27,
   "id": "913aa432-bf0d-479f-8ca5-8096be1e3480",
   "metadata": {},
   "outputs": [
    {
     "data": {
      "text/html": [
       "<div>\n",
       "<style scoped>\n",
       "    .dataframe tbody tr th:only-of-type {\n",
       "        vertical-align: middle;\n",
       "    }\n",
       "\n",
       "    .dataframe tbody tr th {\n",
       "        vertical-align: top;\n",
       "    }\n",
       "\n",
       "    .dataframe thead th {\n",
       "        text-align: right;\n",
       "    }\n",
       "</style>\n",
       "<table border=\"1\" class=\"dataframe\">\n",
       "  <thead>\n",
       "    <tr style=\"text-align: right;\">\n",
       "      <th></th>\n",
       "      <th>Name</th>\n",
       "      <th>Age</th>\n",
       "      <th>Gender</th>\n",
       "      <th>Salary</th>\n",
       "    </tr>\n",
       "  </thead>\n",
       "  <tbody>\n",
       "    <tr>\n",
       "      <th>1</th>\n",
       "      <td>Def</td>\n",
       "      <td>24</td>\n",
       "      <td>Female</td>\n",
       "      <td>78000</td>\n",
       "    </tr>\n",
       "    <tr>\n",
       "      <th>2</th>\n",
       "      <td>Ghi</td>\n",
       "      <td>46</td>\n",
       "      <td>Male</td>\n",
       "      <td>89000</td>\n",
       "    </tr>\n",
       "    <tr>\n",
       "      <th>3</th>\n",
       "      <td>Jkl</td>\n",
       "      <td>67</td>\n",
       "      <td>Male</td>\n",
       "      <td>34000</td>\n",
       "    </tr>\n",
       "    <tr>\n",
       "      <th>4</th>\n",
       "      <td>Mno</td>\n",
       "      <td>68</td>\n",
       "      <td>Female</td>\n",
       "      <td>45000</td>\n",
       "    </tr>\n",
       "  </tbody>\n",
       "</table>\n",
       "</div>"
      ],
      "text/plain": [
       "  Name  Age  Gender  Salary\n",
       "1  Def   24  Female   78000\n",
       "2  Ghi   46    Male   89000\n",
       "3  Jkl   67    Male   34000\n",
       "4  Mno   68  Female   45000"
      ]
     },
     "execution_count": 27,
     "metadata": {},
     "output_type": "execute_result"
    }
   ],
   "source": [
    "df.iloc[1:5]    #Slices and provides rows from index 1 to 4 "
   ]
  },
  {
   "cell_type": "code",
   "execution_count": 28,
   "id": "b8e85d5d-e541-4320-bf0f-9134ec595708",
   "metadata": {},
   "outputs": [
    {
     "data": {
      "text/html": [
       "<div>\n",
       "<style scoped>\n",
       "    .dataframe tbody tr th:only-of-type {\n",
       "        vertical-align: middle;\n",
       "    }\n",
       "\n",
       "    .dataframe tbody tr th {\n",
       "        vertical-align: top;\n",
       "    }\n",
       "\n",
       "    .dataframe thead th {\n",
       "        text-align: right;\n",
       "    }\n",
       "</style>\n",
       "<table border=\"1\" class=\"dataframe\">\n",
       "  <thead>\n",
       "    <tr style=\"text-align: right;\">\n",
       "      <th></th>\n",
       "      <th>Name</th>\n",
       "      <th>Age</th>\n",
       "      <th>Gender</th>\n",
       "      <th>Salary</th>\n",
       "    </tr>\n",
       "  </thead>\n",
       "  <tbody>\n",
       "    <tr>\n",
       "      <th>2</th>\n",
       "      <td>Ghi</td>\n",
       "      <td>46</td>\n",
       "      <td>Male</td>\n",
       "      <td>89000</td>\n",
       "    </tr>\n",
       "    <tr>\n",
       "      <th>3</th>\n",
       "      <td>Jkl</td>\n",
       "      <td>67</td>\n",
       "      <td>Male</td>\n",
       "      <td>34000</td>\n",
       "    </tr>\n",
       "    <tr>\n",
       "      <th>4</th>\n",
       "      <td>Mno</td>\n",
       "      <td>68</td>\n",
       "      <td>Female</td>\n",
       "      <td>45000</td>\n",
       "    </tr>\n",
       "    <tr>\n",
       "      <th>5</th>\n",
       "      <td>Pqr</td>\n",
       "      <td>34</td>\n",
       "      <td>Male</td>\n",
       "      <td>68000</td>\n",
       "    </tr>\n",
       "    <tr>\n",
       "      <th>7</th>\n",
       "      <td>Vwx</td>\n",
       "      <td>57</td>\n",
       "      <td>Male</td>\n",
       "      <td>37000</td>\n",
       "    </tr>\n",
       "    <tr>\n",
       "      <th>8</th>\n",
       "      <td>Yza</td>\n",
       "      <td>48</td>\n",
       "      <td>Male</td>\n",
       "      <td>39000</td>\n",
       "    </tr>\n",
       "    <tr>\n",
       "      <th>10</th>\n",
       "      <td>Mah</td>\n",
       "      <td>52</td>\n",
       "      <td>Female</td>\n",
       "      <td>30000</td>\n",
       "    </tr>\n",
       "  </tbody>\n",
       "</table>\n",
       "</div>"
      ],
      "text/plain": [
       "   Name  Age  Gender  Salary\n",
       "2   Ghi   46    Male   89000\n",
       "3   Jkl   67    Male   34000\n",
       "4   Mno   68  Female   45000\n",
       "5   Pqr   34    Male   68000\n",
       "7   Vwx   57    Male   37000\n",
       "8   Yza   48    Male   39000\n",
       "10  Mah   52  Female   30000"
      ]
     },
     "execution_count": 28,
     "metadata": {},
     "output_type": "execute_result"
    }
   ],
   "source": [
    "df.loc[df['Age'] > 30]    #Provides/selects the rows with age greater than 30"
   ]
  },
  {
   "cell_type": "code",
   "execution_count": 29,
   "id": "a788eb36-f31a-410e-a296-17b6058035ef",
   "metadata": {},
   "outputs": [
    {
     "data": {
      "text/html": [
       "<div>\n",
       "<style scoped>\n",
       "    .dataframe tbody tr th:only-of-type {\n",
       "        vertical-align: middle;\n",
       "    }\n",
       "\n",
       "    .dataframe tbody tr th {\n",
       "        vertical-align: top;\n",
       "    }\n",
       "\n",
       "    .dataframe thead th {\n",
       "        text-align: right;\n",
       "    }\n",
       "</style>\n",
       "<table border=\"1\" class=\"dataframe\">\n",
       "  <thead>\n",
       "    <tr style=\"text-align: right;\">\n",
       "      <th></th>\n",
       "      <th>Name</th>\n",
       "      <th>Age</th>\n",
       "      <th>Gender</th>\n",
       "      <th>Salary</th>\n",
       "    </tr>\n",
       "  </thead>\n",
       "  <tbody>\n",
       "    <tr>\n",
       "      <th>0</th>\n",
       "      <td>Abc</td>\n",
       "      <td>23</td>\n",
       "      <td>Male</td>\n",
       "      <td>45000</td>\n",
       "    </tr>\n",
       "    <tr>\n",
       "      <th>1</th>\n",
       "      <td>Def</td>\n",
       "      <td>24</td>\n",
       "      <td>Female</td>\n",
       "      <td>78000</td>\n",
       "    </tr>\n",
       "    <tr>\n",
       "      <th>6</th>\n",
       "      <td>Stu</td>\n",
       "      <td>25</td>\n",
       "      <td>Female</td>\n",
       "      <td>25000</td>\n",
       "    </tr>\n",
       "    <tr>\n",
       "      <th>9</th>\n",
       "      <td>Kop</td>\n",
       "      <td>28</td>\n",
       "      <td>Male</td>\n",
       "      <td>92000</td>\n",
       "    </tr>\n",
       "  </tbody>\n",
       "</table>\n",
       "</div>"
      ],
      "text/plain": [
       "  Name  Age  Gender  Salary\n",
       "0  Abc   23    Male   45000\n",
       "1  Def   24  Female   78000\n",
       "6  Stu   25  Female   25000\n",
       "9  Kop   28    Male   92000"
      ]
     },
     "execution_count": 29,
     "metadata": {},
     "output_type": "execute_result"
    }
   ],
   "source": [
    "df.loc[(df['Age'] > 20) & (df['Age'] < 30)]    #Same you can apply for salary"
   ]
  },
  {
   "cell_type": "code",
   "execution_count": 30,
   "id": "02c62264-b420-4efd-9a7b-2aa7e60708cb",
   "metadata": {},
   "outputs": [
    {
     "data": {
      "text/plain": [
       "Name        Abc\n",
       "Age          23\n",
       "Gender     Male\n",
       "Salary    45000\n",
       "Name: 0, dtype: object"
      ]
     },
     "execution_count": 30,
     "metadata": {},
     "output_type": "execute_result"
    }
   ],
   "source": [
    "df.iloc[0]"
   ]
  },
  {
   "cell_type": "code",
   "execution_count": 31,
   "id": "11e45b52-9654-4467-b822-36c847faff46",
   "metadata": {},
   "outputs": [
    {
     "data": {
      "text/plain": [
       "Name         Mah\n",
       "Age           52\n",
       "Gender    Female\n",
       "Salary     30000\n",
       "Name: 10, dtype: object"
      ]
     },
     "execution_count": 31,
     "metadata": {},
     "output_type": "execute_result"
    }
   ],
   "source": [
    "df.iloc[-1]     # Negative Indexing / Displays the info of the last row "
   ]
  },
  {
   "cell_type": "code",
   "execution_count": 32,
   "id": "72c7a3a4-012f-476e-a8cb-98af65d69732",
   "metadata": {},
   "outputs": [
    {
     "data": {
      "text/plain": [
       "0     Abc\n",
       "1     Def\n",
       "2     Ghi\n",
       "3     Jkl\n",
       "4     Mno\n",
       "5     Pqr\n",
       "6     Stu\n",
       "7     Vwx\n",
       "8     Yza\n",
       "9     Kop\n",
       "10    Mah\n",
       "Name: Name, dtype: object"
      ]
     },
     "execution_count": 32,
     "metadata": {},
     "output_type": "execute_result"
    }
   ],
   "source": [
    "df.iloc[:, 0]     #Displays the column with index 0"
   ]
  },
  {
   "cell_type": "code",
   "execution_count": 33,
   "id": "a76d5b19-d08e-4536-a1f3-791f0e8307cd",
   "metadata": {},
   "outputs": [
    {
     "data": {
      "text/html": [
       "<div>\n",
       "<style scoped>\n",
       "    .dataframe tbody tr th:only-of-type {\n",
       "        vertical-align: middle;\n",
       "    }\n",
       "\n",
       "    .dataframe tbody tr th {\n",
       "        vertical-align: top;\n",
       "    }\n",
       "\n",
       "    .dataframe thead th {\n",
       "        text-align: right;\n",
       "    }\n",
       "</style>\n",
       "<table border=\"1\" class=\"dataframe\">\n",
       "  <thead>\n",
       "    <tr style=\"text-align: right;\">\n",
       "      <th></th>\n",
       "      <th>Name</th>\n",
       "      <th>Age</th>\n",
       "      <th>Gender</th>\n",
       "      <th>Salary</th>\n",
       "    </tr>\n",
       "  </thead>\n",
       "  <tbody>\n",
       "    <tr>\n",
       "      <th>0</th>\n",
       "      <td>Abc</td>\n",
       "      <td>23</td>\n",
       "      <td>Male</td>\n",
       "      <td>45000</td>\n",
       "    </tr>\n",
       "    <tr>\n",
       "      <th>1</th>\n",
       "      <td>Def</td>\n",
       "      <td>24</td>\n",
       "      <td>Female</td>\n",
       "      <td>78000</td>\n",
       "    </tr>\n",
       "    <tr>\n",
       "      <th>2</th>\n",
       "      <td>Ghi</td>\n",
       "      <td>46</td>\n",
       "      <td>Male</td>\n",
       "      <td>89000</td>\n",
       "    </tr>\n",
       "    <tr>\n",
       "      <th>3</th>\n",
       "      <td>Jkl</td>\n",
       "      <td>67</td>\n",
       "      <td>Male</td>\n",
       "      <td>34000</td>\n",
       "    </tr>\n",
       "    <tr>\n",
       "      <th>4</th>\n",
       "      <td>Mno</td>\n",
       "      <td>68</td>\n",
       "      <td>Female</td>\n",
       "      <td>45000</td>\n",
       "    </tr>\n",
       "  </tbody>\n",
       "</table>\n",
       "</div>"
      ],
      "text/plain": [
       "  Name  Age  Gender  Salary\n",
       "0  Abc   23    Male   45000\n",
       "1  Def   24  Female   78000\n",
       "2  Ghi   46    Male   89000\n",
       "3  Jkl   67    Male   34000\n",
       "4  Mno   68  Female   45000"
      ]
     },
     "execution_count": 33,
     "metadata": {},
     "output_type": "execute_result"
    }
   ],
   "source": [
    "df.iloc[0:5]     #Slices the rows from 0 to 5 (indexes from 0 upto 4)"
   ]
  },
  {
   "cell_type": "code",
   "execution_count": 34,
   "id": "7a426370-b9bf-462d-b396-d424669bf237",
   "metadata": {},
   "outputs": [
    {
     "data": {
      "text/html": [
       "<div>\n",
       "<style scoped>\n",
       "    .dataframe tbody tr th:only-of-type {\n",
       "        vertical-align: middle;\n",
       "    }\n",
       "\n",
       "    .dataframe tbody tr th {\n",
       "        vertical-align: top;\n",
       "    }\n",
       "\n",
       "    .dataframe thead th {\n",
       "        text-align: right;\n",
       "    }\n",
       "</style>\n",
       "<table border=\"1\" class=\"dataframe\">\n",
       "  <thead>\n",
       "    <tr style=\"text-align: right;\">\n",
       "      <th></th>\n",
       "      <th>Name</th>\n",
       "      <th>Age</th>\n",
       "      <th>Gender</th>\n",
       "    </tr>\n",
       "  </thead>\n",
       "  <tbody>\n",
       "    <tr>\n",
       "      <th>0</th>\n",
       "      <td>Abc</td>\n",
       "      <td>23</td>\n",
       "      <td>Male</td>\n",
       "    </tr>\n",
       "    <tr>\n",
       "      <th>1</th>\n",
       "      <td>Def</td>\n",
       "      <td>24</td>\n",
       "      <td>Female</td>\n",
       "    </tr>\n",
       "    <tr>\n",
       "      <th>2</th>\n",
       "      <td>Ghi</td>\n",
       "      <td>46</td>\n",
       "      <td>Male</td>\n",
       "    </tr>\n",
       "    <tr>\n",
       "      <th>3</th>\n",
       "      <td>Jkl</td>\n",
       "      <td>67</td>\n",
       "      <td>Male</td>\n",
       "    </tr>\n",
       "    <tr>\n",
       "      <th>4</th>\n",
       "      <td>Mno</td>\n",
       "      <td>68</td>\n",
       "      <td>Female</td>\n",
       "    </tr>\n",
       "    <tr>\n",
       "      <th>5</th>\n",
       "      <td>Pqr</td>\n",
       "      <td>34</td>\n",
       "      <td>Male</td>\n",
       "    </tr>\n",
       "    <tr>\n",
       "      <th>6</th>\n",
       "      <td>Stu</td>\n",
       "      <td>25</td>\n",
       "      <td>Female</td>\n",
       "    </tr>\n",
       "    <tr>\n",
       "      <th>7</th>\n",
       "      <td>Vwx</td>\n",
       "      <td>57</td>\n",
       "      <td>Male</td>\n",
       "    </tr>\n",
       "    <tr>\n",
       "      <th>8</th>\n",
       "      <td>Yza</td>\n",
       "      <td>48</td>\n",
       "      <td>Male</td>\n",
       "    </tr>\n",
       "    <tr>\n",
       "      <th>9</th>\n",
       "      <td>Kop</td>\n",
       "      <td>28</td>\n",
       "      <td>Male</td>\n",
       "    </tr>\n",
       "    <tr>\n",
       "      <th>10</th>\n",
       "      <td>Mah</td>\n",
       "      <td>52</td>\n",
       "      <td>Female</td>\n",
       "    </tr>\n",
       "  </tbody>\n",
       "</table>\n",
       "</div>"
      ],
      "text/plain": [
       "   Name  Age  Gender\n",
       "0   Abc   23    Male\n",
       "1   Def   24  Female\n",
       "2   Ghi   46    Male\n",
       "3   Jkl   67    Male\n",
       "4   Mno   68  Female\n",
       "5   Pqr   34    Male\n",
       "6   Stu   25  Female\n",
       "7   Vwx   57    Male\n",
       "8   Yza   48    Male\n",
       "9   Kop   28    Male\n",
       "10  Mah   52  Female"
      ]
     },
     "execution_count": 34,
     "metadata": {},
     "output_type": "execute_result"
    }
   ],
   "source": [
    "df.iloc[:,0:3]     #Slices the columns from 0 to 3 (indexes from 0 upto 2)"
   ]
  },
  {
   "cell_type": "code",
   "execution_count": 35,
   "id": "f7fa2cd2-dfbd-4576-b55a-cccf437bf4ea",
   "metadata": {},
   "outputs": [
    {
     "data": {
      "text/html": [
       "<div>\n",
       "<style scoped>\n",
       "    .dataframe tbody tr th:only-of-type {\n",
       "        vertical-align: middle;\n",
       "    }\n",
       "\n",
       "    .dataframe tbody tr th {\n",
       "        vertical-align: top;\n",
       "    }\n",
       "\n",
       "    .dataframe thead th {\n",
       "        text-align: right;\n",
       "    }\n",
       "</style>\n",
       "<table border=\"1\" class=\"dataframe\">\n",
       "  <thead>\n",
       "    <tr style=\"text-align: right;\">\n",
       "      <th></th>\n",
       "      <th>Name</th>\n",
       "      <th>Age</th>\n",
       "    </tr>\n",
       "  </thead>\n",
       "  <tbody>\n",
       "    <tr>\n",
       "      <th>1</th>\n",
       "      <td>Def</td>\n",
       "      <td>24</td>\n",
       "    </tr>\n",
       "    <tr>\n",
       "      <th>2</th>\n",
       "      <td>Ghi</td>\n",
       "      <td>46</td>\n",
       "    </tr>\n",
       "    <tr>\n",
       "      <th>3</th>\n",
       "      <td>Jkl</td>\n",
       "      <td>67</td>\n",
       "    </tr>\n",
       "  </tbody>\n",
       "</table>\n",
       "</div>"
      ],
      "text/plain": [
       "  Name  Age\n",
       "1  Def   24\n",
       "2  Ghi   46\n",
       "3  Jkl   67"
      ]
     },
     "execution_count": 35,
     "metadata": {},
     "output_type": "execute_result"
    }
   ],
   "source": [
    "df.iloc[1:4, 0:2]    #Displays rows from index 1 to 3 and columns from index 0 to 1"
   ]
  },
  {
   "cell_type": "code",
   "execution_count": 36,
   "id": "6ad5fbce-320d-49ca-b761-4bc24afedff0",
   "metadata": {},
   "outputs": [
    {
     "data": {
      "text/html": [
       "<div>\n",
       "<style scoped>\n",
       "    .dataframe tbody tr th:only-of-type {\n",
       "        vertical-align: middle;\n",
       "    }\n",
       "\n",
       "    .dataframe tbody tr th {\n",
       "        vertical-align: top;\n",
       "    }\n",
       "\n",
       "    .dataframe thead th {\n",
       "        text-align: right;\n",
       "    }\n",
       "</style>\n",
       "<table border=\"1\" class=\"dataframe\">\n",
       "  <thead>\n",
       "    <tr style=\"text-align: right;\">\n",
       "      <th></th>\n",
       "      <th>Name</th>\n",
       "      <th>Salary</th>\n",
       "    </tr>\n",
       "  </thead>\n",
       "  <tbody>\n",
       "    <tr>\n",
       "      <th>0</th>\n",
       "      <td>Abc</td>\n",
       "      <td>45000</td>\n",
       "    </tr>\n",
       "    <tr>\n",
       "      <th>5</th>\n",
       "      <td>Pqr</td>\n",
       "      <td>68000</td>\n",
       "    </tr>\n",
       "  </tbody>\n",
       "</table>\n",
       "</div>"
      ],
      "text/plain": [
       "  Name  Salary\n",
       "0  Abc   45000\n",
       "5  Pqr   68000"
      ]
     },
     "execution_count": 36,
     "metadata": {},
     "output_type": "execute_result"
    }
   ],
   "source": [
    "df.iloc[[0, 5], [0, 3]]      #Displays rows with index 0 and 5 & columns with index 0 and 3"
   ]
  },
  {
   "cell_type": "code",
   "execution_count": 37,
   "id": "21af05e9-5539-4705-bc40-6d7a03c314c7",
   "metadata": {},
   "outputs": [],
   "source": [
    "df.to_excel(\"Understanding_Data.xlsx\")    #Dataframe saved to excel sheet"
   ]
  },
  {
   "cell_type": "code",
   "execution_count": null,
   "id": "7ad7a71c-7233-4a4f-be0a-c3a96319de0f",
   "metadata": {},
   "outputs": [],
   "source": []
  }
 ],
 "metadata": {
  "kernelspec": {
   "display_name": "Python 3 (ipykernel)",
   "language": "python",
   "name": "python3"
  },
  "language_info": {
   "codemirror_mode": {
    "name": "ipython",
    "version": 3
   },
   "file_extension": ".py",
   "mimetype": "text/x-python",
   "name": "python",
   "nbconvert_exporter": "python",
   "pygments_lexer": "ipython3",
   "version": "3.11.7"
  }
 },
 "nbformat": 4,
 "nbformat_minor": 5
}
